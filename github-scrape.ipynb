{
 "cells": [
  {
   "cell_type": "code",
   "execution_count": 6,
   "id": "82299c26-ff89-4e72-b85a-0dd464b3b222",
   "metadata": {},
   "outputs": [
    {
     "name": "stdout",
     "output_type": "stream",
     "text": [
      "/cocos-creator/tutorial-blackjack-deprecated\n",
      "/setzer22/blackjack\n",
      "/xfhg/blackjackin\n",
      "/datamllab/rlcard\n",
      "/rubbertoe98/DiamondBlackjack\n",
      "/tonyspiro/blackjack\n",
      "/ChrisZieba/blackjack\n",
      "/seblau/BlackJack-Simulator\n",
      "/next-step/kotlin-blackjack\n",
      "/kevinleedrum/vlackjack\n"
     ]
    }
   ],
   "source": [
    "import pandas as pd\n",
    "import numpy as np\n",
    "\n",
    "from requests import get\n",
    "\n",
    "import json\n",
    "from json.decoder import JSONDecodeError\n",
    "from bs4 import BeautifulSoup\n",
    "\n",
    "# Visual Imports\n",
    "import time\n",
    "from tqdm import tqdm\n",
    "\n",
    "import env\n",
    "\n",
    "# Data\n",
    "\n",
    "# Let's webscrape Github\n",
    "\n",
    "# creating user header\n",
    "# headers = {\"Authorization\": f\"token {github_token}\", \"User-Agent\": github_username}\n",
    "\n",
    "headers = {\"Authorization\": f\"token {env.github_token}\", f\"User-Agent\": env.github_username}\n",
    "\n",
    "# githubs page, most forked repo associated to the keyword \"blackjack\"\n",
    "root_url = 'https://github.com/search?q=stars%3A%3E1+blackjack&type=Repositories'\n",
    "\n",
    "# Create a response based on my headers\n",
    "response = get(root_url, headers = headers)\n",
    "\n",
    "\n",
    "response\n",
    "\n",
    "# create soup object\n",
    "soup = BeautifulSoup(response.content, 'html.parser')\n",
    "\n",
    "# create a find_all list\n",
    "anchors = soup.find_all('a',class_ = 'v-align-middle')\n",
    "\n",
    "# list comprehension \n",
    "# for anchor in the list, anchor.get pull('href')\n",
    "for anchor in anchors:\n",
    "    href = anchor.get('href')\n",
    "    print(href)\n",
    "\n",
    "# Next Page\n",
    "\n",
    "# get the response for next page\n",
    "next_page = soup.find('a',class_ = \"next_page\")['href']\n",
    "\n",
    "next_page = ('https://github.com' + next_page)\n",
    "\n",
    "# Create a response based on my headers\n",
    "response = get(next_page, headers = headers)\n",
    "\n",
    "\n",
    "# create soup object\n",
    "soup = BeautifulSoup(response.content, 'html.parser')\n",
    "\n",
    "# lets make a function!!\n",
    "\n",
    "def get_repos():\n",
    "    \n",
    "    # create an empty dataframe\n",
    "    df = pd.DataFrame()\n",
    "\n",
    "    # create start point\n",
    "    root_url = 'https://github.com/search?q=stars%3A%3E1+blackjack&type=Repositories'\n",
    "\n",
    "    # Create a start point result\n",
    "    response = get(root_url, headers = headers)\n",
    "\n",
    "    # Create soup object\n",
    "    soup = BeautifulSoup(response.content, 'html.parser')\n",
    "\n",
    "    # create a find_all list\n",
    "    anchors = soup.find_all('a',class_ = 'v-align-middle')\n",
    "\n",
    "    # create a list to store hrefs\n",
    "    hrefs = []\n",
    "\n",
    "    # list comprehension \n",
    "    # for anchor in the list, anchor.get pull('href')\n",
    "    for anchor in anchors:\n",
    "        href = anchor.get('href')\n",
    "        hrefs.append(href)\n",
    "\n",
    "    # append the hrefs to the data frame\n",
    "    df = df.append(pd.DataFrame({'href': hrefs}))\n",
    "    \n",
    "    \n",
    "    #####NEXT PAGES##########\n",
    "    \n",
    "    # get the response for next page\n",
    "    next_page = soup.find('a',class_ = 'next_page')['href']\n",
    "\n",
    "    next_page = ('https://github.com' + next_page)\n",
    "\n",
    "    # Create a response based on my headers\n",
    "    response = get(next_page, headers = headers)\n",
    "\n",
    "    # create soup object\n",
    "    soup = BeautifulSoup(response.content, 'html.parser')\n",
    "    \n",
    "    \n",
    "\n",
    "    \n",
    "    \n",
    "    \n",
    "\n",
    "    \n",
    "    \n",
    "    return df, next_page\n",
    "\n",
    "def get_repo():\n",
    "    # create an empty dataframe\n",
    "    df = pd.DataFrame()\n",
    "    # create a list to store hrefs\n",
    "    hrefs = []\n",
    "    ###############\n",
    "    for i in tqdm(range(1,51)):\n",
    "        url = f'https://github.com/search?o=desc&p={i}&q=blackjack&s=forks&type=Repositories'\n",
    "        # Create a response based on my headers\n",
    "        print(url)\n",
    "        response = get(url, headers=headers)\n",
    "        print(response.ok,response.status_code)\n",
    "        # create soup object\n",
    "        soup = BeautifulSoup(response.content, 'html.parser')\n",
    "        # create a find_all list\n",
    "        anchors = soup.find_all('a', class_='v-align-middle')\n",
    "        \n",
    "        # list comprehension to get href values for all anchor tags\n",
    "        for anchor in anchors:\n",
    "            href = anchor.get('href')\n",
    "            print(href)\n",
    "            hrefs.append(href)\n",
    "        # wait a bit to avoid overloading the API\n",
    "        time.sleep(15)\n",
    "    # append the hrefs to the data frame\n",
    "    df = df.append(pd.DataFrame({'href': hrefs}))\n",
    "   \n",
    "    return df"
   ]
  },
  {
   "cell_type": "code",
   "execution_count": 7,
   "id": "d9f32183",
   "metadata": {},
   "outputs": [
    {
     "data": {
      "text/plain": [
       "\" for i in tqdm(range(0,1)):\\n\\n    # repeat the same code to get hrefs and append to the data frame\\n    next_page_url = ('https://github.com' + next_page)\\n\\n    # Create a response based on my headers\\n    response = get(next_page_url, headers=headers)\\n\\n    # create soup object\\n    soup = BeautifulSoup(response.content, 'html.parser')\\n\\n    # create a find_all list\\n    anchors = soup.find_all('a', class_='v-align-middle')\\n\\n    # list comprehension to get href values for all anchor tags\\n    hrefs += [anchor.get('href') for anchor in anchors]\\n\\n    # get the response for next page\\n    next_page = soup.find('a', class_='next_page')['href']\\n\\n    # wait a bit to avoid overloading the API\\n    time.sleep(0.2)\\n\\nreturn df\""
      ]
     },
     "execution_count": 7,
     "metadata": {},
     "output_type": "execute_result"
    }
   ],
   "source": [
    "''' for i in tqdm(range(0,1)):\n",
    "\n",
    "    # repeat the same code to get hrefs and append to the data frame\n",
    "    next_page_url = ('https://github.com' + next_page)\n",
    "\n",
    "    # Create a response based on my headers\n",
    "    response = get(next_page_url, headers=headers)\n",
    "\n",
    "    # create soup object\n",
    "    soup = BeautifulSoup(response.content, 'html.parser')\n",
    "\n",
    "    # create a find_all list\n",
    "    anchors = soup.find_all('a', class_='v-align-middle')\n",
    "\n",
    "    # list comprehension to get href values for all anchor tags\n",
    "    hrefs += [anchor.get('href') for anchor in anchors]\n",
    "\n",
    "    # get the response for next page\n",
    "    next_page = soup.find('a', class_='next_page')['href']\n",
    "\n",
    "    # wait a bit to avoid overloading the API\n",
    "    time.sleep(0.2)\n",
    "\n",
    "return df'''"
   ]
  },
  {
   "cell_type": "code",
   "execution_count": 8,
   "id": "aef7528e",
   "metadata": {
    "scrolled": true
   },
   "outputs": [
    {
     "name": "stderr",
     "output_type": "stream",
     "text": [
      "  0%|          | 0/50 [00:00<?, ?it/s]"
     ]
    },
    {
     "name": "stdout",
     "output_type": "stream",
     "text": [
      "https://github.com/search?o=desc&p=1&q=blackjack&s=forks&type=Repositories\n",
      "True 200\n",
      "/learn-co-students/simple-blackjack-cli-prework\n",
      "/rocketacademy/basics-blackjack\n",
      "/datamllab/rlcard\n",
      "/learn-co-students/simple-blackjack-cli-001-prework-web\n",
      "/cocos-creator/tutorial-blackjack-deprecated\n",
      "/learn-co-students/simple-blackjack-cli-online-web-prework\n",
      "/woowacourse/java-blackjack\n",
      "/learn-co-students/cli-applications-simple-blackjack-online-web-prework\n",
      "/KillovSky/Iris\n",
      "/next-step/kotlin-blackjack\n"
     ]
    },
    {
     "name": "stderr",
     "output_type": "stream",
     "text": [
      "  2%|▏         | 1/50 [00:15<12:54, 15.81s/it]"
     ]
    },
    {
     "name": "stdout",
     "output_type": "stream",
     "text": [
      "https://github.com/search?o=desc&p=2&q=blackjack&s=forks&type=Repositories\n",
      "True 200\n",
      "/woowacourse/java-blackjack-precourse\n",
      "/next-step/java-blackjack-playground\n",
      "/rubbertoe98/DiamondBlackjack\n",
      "/seblau/BlackJack-Simulator\n",
      "/vikingeducation/assignment_sinatra_blackjack\n",
      "/xfhg/blackjackin\n",
      "/MisterBuzzee/qb-blackjack\n",
      "/next-step/java-blackjack\n",
      "/exceptionnotfound/BlazorGames\n",
      "/tonyspiro/blackjack\n"
     ]
    },
    {
     "name": "stderr",
     "output_type": "stream",
     "text": [
      "  4%|▍         | 2/50 [00:33<13:18, 16.64s/it]"
     ]
    },
    {
     "name": "stdout",
     "output_type": "stream",
     "text": [
      "https://github.com/search?o=desc&p=3&q=blackjack&s=forks&type=Repositories\n",
      "True 200\n",
      "/RubyoffRails/Episode1-Summer2012\n",
      "/kevinleedrum/vlackjack\n",
      "/setzer22/blackjack\n",
      "/tobias-dv-lnu/blackjack_java\n",
      "/phamand2/blackjack-exercise\n",
      "/joinpursuit/21-web-game\n",
      "/tedyoung/blackjack-mycmt-ebp-kr\n",
      "/j-goodman/blackjack-exercise\n",
      "/joinpursuit/Pursuit-Core-iOS-Unit1-Assessment\n",
      "/davidwinter/java-blackjack\n"
     ]
    },
    {
     "name": "stderr",
     "output_type": "stream",
     "text": [
      "  6%|▌         | 3/50 [00:50<13:14, 16.90s/it]"
     ]
    },
    {
     "name": "stdout",
     "output_type": "stream",
     "text": [
      "https://github.com/search?o=desc&p=4&q=blackjack&s=forks&type=Repositories\n",
      "True 200\n",
      "/joaokucera/unity-blackjack\n",
      "/ChrisZieba/blackjack\n",
      "/Xinerki/kgv-blackjack\n",
      "/learn-co-students/cli-applications-simple-blackjack-prework\n",
      "/jellybeanjohnny/objc-BlackJackViews-ios-0616\n",
      "/retrovil/blackjack\n",
      "/chriswebb09/objc-BlackJack-ios-0616\n",
      "/nordakademie-einfuehrung-java/uebungsblock_5_bis_8\n",
      "/jellybeanjohnny/swift-blackjack-lab-ios-0616\n",
      "/bensu1013/swift-blackjack-lab-ios-0916\n"
     ]
    },
    {
     "name": "stderr",
     "output_type": "stream",
     "text": [
      "  8%|▊         | 4/50 [01:06<12:45, 16.64s/it]"
     ]
    },
    {
     "name": "stdout",
     "output_type": "stream",
     "text": [
      "https://github.com/search?o=desc&p=5&q=blackjack&s=forks&type=Repositories\n",
      "True 200\n",
      "/tobias-dv-lnu/blackjack_csharp\n",
      "/PaulBDev/DiscordCryptoCasino\n",
      "/learn-co-students/simple-blackjack-cli-001\n",
      "/learn-co-students/cli-applications-simple-blackjack-dumbo-web-82619\n",
      "/learn-co-students/cli-applications-simple-blackjack-nyc-web-021720\n",
      "/learn-co-students/simple-blackjack-cli-dumbo-web-career-010719\n",
      "/d-Rickyy-b/Python-BlackJackBot\n",
      "/kedoska/engine-blackjack\n",
      "/vinniefalco/BeastLounge\n",
      "/conch76/cnu_blackjack\n"
     ]
    },
    {
     "name": "stderr",
     "output_type": "stream",
     "text": [
      " 10%|█         | 5/50 [01:22<12:20, 16.47s/it]"
     ]
    },
    {
     "name": "stdout",
     "output_type": "stream",
     "text": [
      "https://github.com/search?o=desc&p=6&q=blackjack&s=forks&type=Repositories\n",
      "True 200\n",
      "/pattysc/simple-blackjack-cli-web-1116\n",
      "/koistya/Blackjack\n",
      "/davidshore/chas_blackjack\n",
      "/tedyoung/blackjack-r2ha-2022\n",
      "/heliom/bytesjack\n",
      "/jef4490/simple-blackjack-cli-web-0217\n",
      "/yiuhyuk/blackjack\n",
      "/nachogentile/learn-python-with-blackjack\n",
      "/SamantaAlfaro/blackjack-1\n",
      "/learn-co-curriculum/simple-blackjack-cli\n"
     ]
    },
    {
     "name": "stderr",
     "output_type": "stream",
     "text": [
      " 12%|█▏        | 6/50 [01:38<11:56, 16.28s/it]"
     ]
    },
    {
     "name": "stdout",
     "output_type": "stream",
     "text": [
      "https://github.com/search?o=desc&p=7&q=blackjack&s=forks&type=Repositories\n",
      "True 200\n",
      "/mikemelch/Card-Games\n",
      "/learn-co-students/simple-blackjack-cli-dumbo-web-121018\n",
      "/t43Wiu6/blackJack-Dicts\n",
      "/jarodburchill/blackjack-react-app\n",
      "/learn-co-students/simple-blackjack-cli-dumbo-web-100818\n",
      "/vikingeducation/project_cli_blackjack\n",
      "/learn-co-students/simple-blackjack-cli-london-web-career-031119\n",
      "/learn-co-students/cli-applications-simple-blackjack-nyc-web-012720\n",
      "/dorilla/live_view_black_jack\n",
      "/swapagarwal/BlackJack\n"
     ]
    },
    {
     "name": "stderr",
     "output_type": "stream",
     "text": [
      " 14%|█▍        | 7/50 [01:54<11:34, 16.14s/it]"
     ]
    },
    {
     "name": "stdout",
     "output_type": "stream",
     "text": [
      "https://github.com/search?o=desc&p=8&q=blackjack&s=forks&type=Repositories\n",
      "True 200\n",
      "/itverket/BlackJack\n",
      "/Shubhamsharma09/PYGames\n",
      "/learn-co-students/simple-blackjack-cli-london-web-career-040119\n",
      "/learn-co-students/simple-blackjack-cli-dumbo-web-career-040119\n",
      "/learn-co-students/cli-applications-simple-blackjack-nyc-web-082619\n",
      "/learn-co-students/cli-applications-simple-blackjack-wdc01-seng-ft-060120\n",
      "/MukulCode/BLACKJACK-game-\n",
      "/learn-co-students/cli-applications-simple-blackjack-dumbo-web-091619\n",
      "/learn-co-students/cli-applications-simple-blackjack-austin-web-012720\n",
      "/learn-co-students/simple-blackjack-cli-dumbo-web-102918\n"
     ]
    },
    {
     "name": "stderr",
     "output_type": "stream",
     "text": [
      " 16%|█▌        | 8/50 [02:10<11:15, 16.08s/it]"
     ]
    },
    {
     "name": "stdout",
     "output_type": "stream",
     "text": [
      "https://github.com/search?o=desc&p=9&q=blackjack&s=forks&type=Repositories\n",
      "True 200\n",
      "/learn-co-students/simple-blackjack-cli-dumbo-web-051319\n",
      "/learn-co-students/simple-blackjack-cli-nyc-web-062419\n",
      "/learn-co-students/cli-applications-simple-blackjack-nyc-web-010620\n",
      "/learn-co-students/simple-blackjack-cli-dumbo-web-060319\n",
      "/gophercises/blackjack\n",
      "/Oli8/BlackJackJs\n",
      "/BoiseCodeWorks/BlackJack\n",
      "/Kusnierewicz/Blackjack-game-in-JS\n",
      "/piratetone/Blackjack\n",
      "/learn-co-students/simple-blackjack-cli-london-web-051319\n"
     ]
    },
    {
     "name": "stderr",
     "output_type": "stream",
     "text": [
      " 18%|█▊        | 9/50 [02:26<10:56, 16.02s/it]"
     ]
    },
    {
     "name": "stdout",
     "output_type": "stream",
     "text": [
      "https://github.com/search?o=desc&p=10&q=blackjack&s=forks&type=Repositories\n",
      "True 200\n",
      "/learn-co-students/simple-blackjack-cli-nyc-web-career-021819\n",
      "/learn-co-students/simple-blackjack-cli-nyc-web-051319\n",
      "/learn-co-students/simple-blackjack-cli-london-web-career-021819\n",
      "/learn-co-students/simple-blackjack-cli-seattle-web-career-042219\n",
      "/learn-co-students/cli-applications-simple-blackjack-dumbo-web-100719\n",
      "/learn-co-students/cli-applications-simple-blackjack-wdc01-seng-ft-082420\n",
      "/MichaelDim02/BlackJack\n",
      "/hewhowearspants/Blackjack-io\n",
      "/learn-co-students/simple-blackjack-cli-dc-web-051319\n",
      "/learn-co-students/simple-blackjack-cli-dumbo-web-111918\n"
     ]
    },
    {
     "name": "stderr",
     "output_type": "stream",
     "text": [
      " 20%|██        | 10/50 [02:42<10:47, 16.19s/it]"
     ]
    },
    {
     "name": "stdout",
     "output_type": "stream",
     "text": [
      "https://github.com/search?o=desc&p=11&q=blackjack&s=forks&type=Repositories\n",
      "True 200\n",
      "/learn-co-students/simple-blackjack-cli-dumbo-web-career-031119\n",
      "/learn-co-students/cli-applications-simple-blackjack-denver-web-82619\n",
      "/learn-co-students/cli-applications-simple-blackjack-nyc-web-100719\n",
      "/learn-co-students/simple-blackjack-cli-nyc-web-career-040119\n",
      "/learn-co-students/cli-applications-simple-blackjack-nyc-web-102819\n",
      "/learn-co-students/simple-blackjack-cli-dumbo-web-career-021819\n",
      "/learn-co-students/simple-blackjack-cli-seattle-web-career-021819\n",
      "/ConnorSwis/casino-bot\n",
      "/AlmasB/blackjack\n",
      "/kurtkaiser/Unity-Blackjack-Game-Tutorial\n"
     ]
    },
    {
     "name": "stderr",
     "output_type": "stream",
     "text": [
      " 22%|██▏       | 11/50 [02:59<10:40, 16.41s/it]"
     ]
    },
    {
     "name": "stdout",
     "output_type": "stream",
     "text": [
      "https://github.com/search?o=desc&p=12&q=blackjack&s=forks&type=Repositories\n",
      "False 429\n"
     ]
    },
    {
     "name": "stderr",
     "output_type": "stream",
     "text": [
      " 24%|██▍       | 12/50 [03:16<10:31, 16.61s/it]"
     ]
    },
    {
     "name": "stdout",
     "output_type": "stream",
     "text": [
      "https://github.com/search?o=desc&p=13&q=blackjack&s=forks&type=Repositories\n",
      "False 429\n"
     ]
    },
    {
     "name": "stderr",
     "output_type": "stream",
     "text": [
      " 26%|██▌       | 13/50 [03:33<10:13, 16.58s/it]"
     ]
    },
    {
     "name": "stdout",
     "output_type": "stream",
     "text": [
      "https://github.com/search?o=desc&p=14&q=blackjack&s=forks&type=Repositories\n",
      "True 200\n",
      "/ProgrammingCCC/blackjack\n",
      "/nyu-java-programming/blackjack-exercise\n",
      "/learn-co-students/cli-applications-simple-blackjack-nyc-web-033020\n",
      "/learn-co-students/cli-applications-simple-blackjack-nyc-web-030920\n",
      "/learn-co-students/cli-applications-simple-blackjack-dumbo-web-080519\n",
      "/learn-co-students/simple-blackjack-cli-nyc-web-080618\n",
      "/learn-co-students/cli-applications-simple-blackjack-nyc01-seng-ft-102620\n",
      "/learn-co-students/cli-applications-simple-blackjack-nyc04-seng-ft-071220\n",
      "/learn-co-students/cli-applications-simple-blackjack-sea01-seng-ft-111620\n",
      "/bmxklYzj/blackJack\n"
     ]
    },
    {
     "name": "stderr",
     "output_type": "stream",
     "text": [
      " 28%|██▊       | 14/50 [03:49<09:51, 16.43s/it]"
     ]
    },
    {
     "name": "stdout",
     "output_type": "stream",
     "text": [
      "https://github.com/search?o=desc&p=15&q=blackjack&s=forks&type=Repositories\n",
      "True 200\n",
      "/stayko/blackjack-js\n",
      "/ucsb-cs56-projects/cs56-games-blackjack\n",
      "/vlino2015/blackjack2021\n",
      "/williamsjnhs/blackjack\n",
      "/TIYDC/fee-blackjack\n",
      "/justdroo/simple-blackjack-cli-web-0916\n",
      "/wallance/charlie\n",
      "/learn-co-students/simple-blackjack-cli-london-web-082619\n",
      "/learn-co-students/cli-applications-simple-blackjack-chicago-web-100719\n",
      "/learn-co-students/simple-blackjack-cli-nyc-web-060418\n"
     ]
    },
    {
     "name": "stderr",
     "output_type": "stream",
     "text": [
      " 30%|███       | 15/50 [04:05<09:28, 16.25s/it]"
     ]
    },
    {
     "name": "stdout",
     "output_type": "stream",
     "text": [
      "https://github.com/search?o=desc&p=16&q=blackjack&s=forks&type=Repositories\n",
      "True 200\n",
      "/learn-co-students/cli-applications-simple-blackjack-denver-web-010620\n",
      "/learn-co-students/cli-applications-simple-blackjack-denver-web-033020\n",
      "/learn-co-students/simple-blackjack-cli-denver-web-060319\n",
      "/learn-co-students/cli-applications-simple-blackjack-dumbo-web-010620\n",
      "/learn-co-students/simple-blackjack-cli-dumbo-web-082718\n",
      "/learn-co-students/simple-blackjack-cli-nyc-web-102918\n",
      "/learn-co-students/cli-applications-simple-blackjack-dumbo-web-102819\n",
      "/learn-co-students/simple-blackjack-cli-seattle-web-career-012819\n",
      "/learn-co-students/simple-blackjack-cli-seattle-web-060319\n",
      "/learn-co-students/simple-blackjack-cli-atlanta-web-career-031119\n"
     ]
    },
    {
     "name": "stderr",
     "output_type": "stream",
     "text": [
      " 32%|███▏      | 16/50 [04:20<09:07, 16.10s/it]"
     ]
    },
    {
     "name": "stdout",
     "output_type": "stream",
     "text": [
      "https://github.com/search?o=desc&p=17&q=blackjack&s=forks&type=Repositories\n",
      "True 200\n",
      "/learn-co-students/simple-blackjack-cli-dc-web-062419\n",
      "/learn-co-students/cli-applications-simple-blackjack-dumbo-web-120919\n",
      "/learn-co-students/cli-applications-simple-blackjack-dumbo-web-111819\n",
      "/learn-co-students/cli-applications-simple-blackjack-dc-web-102819\n",
      "/learn-co-students/simple-blackjack-cli-nyc-web-100818\n",
      "/learn-co-students/cli-applications-simple-blackjack-london-web-080519\n",
      "/learn-co-students/cli-applications-simple-blackjack-dc-web-030920\n",
      "/learn-co-students/simple-blackjack-cli-london-web-060319\n",
      "/learn-co-students/simple-blackjack-cli-atlanta-web-042219\n",
      "/learn-co-students/simple-blackjack-cli-dc-web-091718\n"
     ]
    },
    {
     "name": "stderr",
     "output_type": "stream",
     "text": [
      " 34%|███▍      | 17/50 [04:36<08:47, 15.97s/it]"
     ]
    },
    {
     "name": "stdout",
     "output_type": "stream",
     "text": [
      "https://github.com/search?o=desc&p=18&q=blackjack&s=forks&type=Repositories\n",
      "False 429\n"
     ]
    },
    {
     "name": "stderr",
     "output_type": "stream",
     "text": [
      " 36%|███▌      | 18/50 [04:52<08:29, 15.91s/it]"
     ]
    },
    {
     "name": "stdout",
     "output_type": "stream",
     "text": [
      "https://github.com/search?o=desc&p=19&q=blackjack&s=forks&type=Repositories\n",
      "False 429\n"
     ]
    },
    {
     "name": "stderr",
     "output_type": "stream",
     "text": [
      " 38%|███▊      | 19/50 [05:07<08:09, 15.79s/it]"
     ]
    },
    {
     "name": "stdout",
     "output_type": "stream",
     "text": [
      "https://github.com/search?o=desc&p=20&q=blackjack&s=forks&type=Repositories\n",
      "True 200\n",
      "/learn-co-students/simple-blackjack-cli-nyc-web-082718\n",
      "/learn-co-students/simple-blackjack-cli-houston-web-career-021819\n",
      "/learn-co-students/cli-applications-simple-blackjack-nyc01-seng-ft-120720\n",
      "/learn-co-students/cli-applications-simple-blackjack-nyc01-seng-ft-082420\n",
      "/learn-co-students/cli-applications-simple-blackjack-nyc01-seng-ft-062220\n",
      "/jordansegalman/Blackjack\n",
      "/Pradhyo/blackjack\n",
      "/Morningstar-Development/qb-blackjack\n",
      "/balexander16/blackjack-demo\n",
      "/Mullen-High-School/Blackjack-Skeleton\n"
     ]
    },
    {
     "name": "stderr",
     "output_type": "stream",
     "text": [
      " 40%|████      | 20/50 [11:47<1:05:31, 131.05s/it]"
     ]
    },
    {
     "name": "stdout",
     "output_type": "stream",
     "text": [
      "https://github.com/search?o=desc&p=21&q=blackjack&s=forks&type=Repositories\n",
      "False 429\n"
     ]
    },
    {
     "name": "stderr",
     "output_type": "stream",
     "text": [
      " 42%|████▏     | 21/50 [12:04<46:43, 96.69s/it]   "
     ]
    },
    {
     "name": "stdout",
     "output_type": "stream",
     "text": [
      "https://github.com/search?o=desc&p=22&q=blackjack&s=forks&type=Repositories\n",
      "False 429\n"
     ]
    },
    {
     "name": "stderr",
     "output_type": "stream",
     "text": [
      " 44%|████▍     | 22/50 [12:20<33:54, 72.65s/it]"
     ]
    },
    {
     "name": "stdout",
     "output_type": "stream",
     "text": [
      "https://github.com/search?o=desc&p=23&q=blackjack&s=forks&type=Repositories\n",
      "True 200\n",
      "/learn-co-students/cli-applications-simple-blackjack-den01-seng-ft-020121\n",
      "/ryan112358/AI-GameTheory\n",
      "/pjhyett/blackjax\n",
      "/srome/blackjacklearner\n",
      "/JayOfemi/BlackJack\n",
      "/cohenna/php-blackjack\n",
      "/jacquelynmarcella/blackjack\n",
      "/VishalChoubey1019/Blackjack-Game\n",
      "/apsdehal/blackjack\n",
      "/metakgp/blackjack\n"
     ]
    },
    {
     "name": "stderr",
     "output_type": "stream",
     "text": [
      " 46%|████▌     | 23/50 [12:36<25:01, 55.60s/it]"
     ]
    },
    {
     "name": "stdout",
     "output_type": "stream",
     "text": [
      "https://github.com/search?o=desc&p=24&q=blackjack&s=forks&type=Repositories\n",
      "True 200\n",
      "/davidyang/tddblackjack\n",
      "/next-step/swift-blackjack\n",
      "/mtthss/easy21\n",
      "/sdcst11/100g-blackjack\n",
      "/lukepierotti/simple-blackjack-cli-web-062617\n",
      "/n3m3sis42/simple-blackjack-cli-web-060517\n",
      "/johnnyb1111/Card-Counter\n",
      "/learn-co-students/simple-blackjack-cli-dc-web-career-021819\n",
      "/learn-co-students/cli-applications-simple-blackjack-london-web-120919\n",
      "/learn-co-students/simple-blackjack-cli-denver-web-82619\n"
     ]
    },
    {
     "name": "stderr",
     "output_type": "stream",
     "text": [
      " 48%|████▊     | 24/50 [12:52<18:57, 43.76s/it]"
     ]
    },
    {
     "name": "stdout",
     "output_type": "stream",
     "text": [
      "https://github.com/search?o=desc&p=25&q=blackjack&s=forks&type=Repositories\n",
      "True 200\n",
      "/learn-co-students/cli-applications-simple-blackjack-london-web-111819\n",
      "/learn-co-students/cli-applications-simple-blackjack-chicago-web-82619\n",
      "/learn-co-students/cli-applications-simple-blackjack-nyc-web-120919\n",
      "/learn-co-students/simple-blackjack-cli-dumbo-web-82619\n",
      "/learn-co-students/simple-blackjack-cli-dumbo-web-091619\n",
      "/learn-co-students/simple-blackjack-cli-dumbo-web-102819\n",
      "/learn-co-students/simple-blackjack-cli-seattle-web-051319\n",
      "/learn-co-students/cli-applications-simple-blackjack-nyc04-seng-ft-041920\n",
      "/learn-co-students/cli-applications-simple-blackjack-hou01-seng-ft-100520\n",
      "/learn-co-students/cli-applications-simple-blackjack-den01-seng-ft-120720\n"
     ]
    },
    {
     "name": "stderr",
     "output_type": "stream",
     "text": [
      " 50%|█████     | 25/50 [29:04<2:14:13, 322.12s/it]"
     ]
    },
    {
     "name": "stdout",
     "output_type": "stream",
     "text": [
      "https://github.com/search?o=desc&p=26&q=blackjack&s=forks&type=Repositories\n",
      "True 200\n",
      "/learn-co-students/cli-applications-simple-blackjack-atx01-seng-ft-071320\n",
      "/learn-co-students/cli-applications-simple-blackjack-nyc04-seng-ft-012720\n",
      "/learn-co-students/cli-applications-simple-blackjack-yale-web-yss-052520\n",
      "/learn-co-students/cli-applications-simple-blackjack-wdc01-seng-ft-071320\n",
      "/learn-co-students/cli-applications-simple-blackjack-wdc01-seng-ft-042020\n",
      "/Athena1337/blackJack\n",
      "/lxmymjr/Blackjack\n",
      "/hanhaechi/blackjack\n",
      "/sameertotey/BlackJack\n",
      "/rjordanbarnes/blackjack\n"
     ]
    },
    {
     "name": "stderr",
     "output_type": "stream",
     "text": [
      " 52%|█████▏    | 26/50 [46:34<3:36:14, 540.62s/it]"
     ]
    },
    {
     "name": "stdout",
     "output_type": "stream",
     "text": [
      "https://github.com/search?o=desc&p=27&q=blackjack&s=forks&type=Repositories\n",
      "True 200\n",
      "/gophercises/blackjack_ai\n",
      "/CWDG/blackjack\n",
      "/LexTheGreat/blackjack\n",
      "/martinabeleda/blackjack-tracker\n",
      "/ittybittybaby/blackjack\n",
      "/DanielGTI/BlackJack-mvc-web\n",
      "/ServePeak/Blackjack-Python\n",
      "/woowacourse/kotlin-blackjack\n",
      "/bbleck/blackjack-android-v3\n",
      "/learn-co-students/simple-blackjack-cli-web-012918\n"
     ]
    },
    {
     "name": "stderr",
     "output_type": "stream",
     "text": [
      " 54%|█████▍    | 27/50 [1:19:10<6:10:01, 965.30s/it]"
     ]
    },
    {
     "name": "stdout",
     "output_type": "stream",
     "text": [
      "https://github.com/search?o=desc&p=28&q=blackjack&s=forks&type=Repositories\n",
      "True 200\n",
      "/learn-co-students/simple-blackjack-cli-web-121117\n",
      "/ZipCodeCore/PythonFundamentals.Labs.BlackJack\n",
      "/joshuapickenpaugh/casino\n",
      "/learn-co-students/simple-blackjack-cli-seattle-web-career-031119\n",
      "/learn-co-students/simple-blackjack-cli-dc-web-082718\n",
      "/learn-co-students/simple-blackjack-cli-chicago-web-062419\n",
      "/learn-co-students/simple-blackjack-cli-nyc-web-040218\n",
      "/learn-co-students/simple-blackjack-cli-dc-web-102819\n",
      "/learn-co-students/simple-blackjack-cli-nyc-web-031218\n",
      "/learn-co-students/simple-blackjack-cli-london-web-career-010719\n"
     ]
    },
    {
     "name": "stderr",
     "output_type": "stream",
     "text": [
      " 56%|█████▌    | 28/50 [1:31:51<5:31:23, 903.81s/it]"
     ]
    },
    {
     "name": "stdout",
     "output_type": "stream",
     "text": [
      "https://github.com/search?o=desc&p=29&q=blackjack&s=forks&type=Repositories\n",
      "True 200\n",
      "/learn-co-students/simple-blackjack-cli-dc-web-071618\n",
      "/learn-co-students/simple-blackjack-cli-dumbo-web-051418\n",
      "/learn-co-students/simple-blackjack-cli-london-web-career-012819\n",
      "/learn-co-students/simple-blackjack-cli-sf-web-091619\n",
      "/learn-co-students/simple-blackjack-cli-nyc-clarke-web-100719\n",
      "/learn-co-students/simple-blackjack-cli-chicago-web-career-040119\n",
      "/codewithkyle/We-Suck-at-Drawing\n",
      "/learn-co-students/cli-applications-simple-blackjack-hou01-seng-ft-042020\n",
      "/learn-co-students/cli-applications-simple-blackjack-nyc01-seng-ft-071320\n",
      "/learn-co-students/cli-applications-simple-blackjack-chi01-seng-ft-120720\n"
     ]
    },
    {
     "name": "stderr",
     "output_type": "stream",
     "text": [
      " 58%|█████▊    | 29/50 [1:32:08<3:43:15, 637.87s/it]"
     ]
    },
    {
     "name": "stdout",
     "output_type": "stream",
     "text": [
      "https://github.com/search?o=desc&p=30&q=blackjack&s=forks&type=Repositories\n",
      "True 200\n",
      "/learn-co-students/cli-applications-simple-blackjack-wdc01-seng-ft-011121\n",
      "/learn-co-students/cli-applications-simple-blackjack-nyc01-seng-ft-091420\n",
      "/matemagyari/reference-ddd-blackjack\n",
      "/Carrigan/EvolutionaryBlackjack\n",
      "/SICPDistilled/blackjack\n",
      "/Solomka12/Vue-BlackJack\n",
      "/GalaxysHub/BlackJack-Classic\n",
      "/bc-game-project/bcgame-blackjack\n",
      "/ChadLactaoen/BlackjackClient\n",
      "/mrward/node-blackjack\n"
     ]
    },
    {
     "name": "stderr",
     "output_type": "stream",
     "text": [
      " 60%|██████    | 30/50 [1:32:25<2:30:30, 451.53s/it]"
     ]
    },
    {
     "name": "stdout",
     "output_type": "stream",
     "text": [
      "https://github.com/search?o=desc&p=31&q=blackjack&s=forks&type=Repositories\n",
      "True 200\n",
      "/cklone/blackjack-ruby\n",
      "/scopetech/Blackjack-Public\n",
      "/tdoi/blackjack\n",
      "/mbensan/blackjack\n",
      "/ChadLactaoen/Blackjack\n",
      "/awixom/CFD_Blackjack\n",
      "/andrea-hidalgo/ruby-blackjack\n",
      "/OOP-Java-DTU-Step-2020/blackjack-start\n",
      "/Dammi87/blackjack_oob\n",
      "/Norbo11/UltimateCards\n"
     ]
    },
    {
     "name": "stderr",
     "output_type": "stream",
     "text": [
      " 62%|██████▏   | 31/50 [1:32:42<1:41:43, 321.26s/it]"
     ]
    },
    {
     "name": "stdout",
     "output_type": "stream",
     "text": [
      "https://github.com/search?o=desc&p=32&q=blackjack&s=forks&type=Repositories\n",
      "True 200\n",
      "/flatiron-lessons/simple-blackjack-cli-web-071717\n",
      "/saLearn/swift-blackjack-lab-ios-0217\n",
      "/learn-co-students/cli-applications-simple-blackjack-atlanta-web-82619\n",
      "/learn-co-students/cli-applications-simple-blackjack-london-web-010620\n",
      "/learn-co-students/cli-applications-simple-blackjack-sfo-web-120919\n",
      "/learn-co-students/simple-blackjack-cli-sf-web-102819\n",
      "/learn-co-students/cli-applications-simple-blackjack-denver-web-111819\n",
      "/learn-co-students/cli-applications-simple-blackjack-london-web-012720\n",
      "/learn-co-students/simple-blackjack-cli-nyc-web-042318\n",
      "/learn-co-students/simple-blackjack-cli-dc-web-062518\n"
     ]
    },
    {
     "name": "stderr",
     "output_type": "stream",
     "text": [
      " 64%|██████▍   | 32/50 [1:32:58<1:08:55, 229.76s/it]"
     ]
    },
    {
     "name": "stdout",
     "output_type": "stream",
     "text": [
      "https://github.com/search?o=desc&p=33&q=blackjack&s=forks&type=Repositories\n",
      "True 200\n",
      "/learn-co-students/cli-applications-simple-blackjack-nyc-web-080519\n",
      "/learn-co-students/cli-applications-simple-blackjack-london-web-091619\n",
      "/learn-co-students/simple-blackjack-cli-nyc-web-051418\n",
      "/learn-co-students/cli-applications-simple-blackjack-atlanta-web-021720\n",
      "/learn-co-students/cli-applications-simple-blackjack-denver-web-100719\n",
      "/learn-co-students/cli-applications-simple-blackjack-wdc01-seng-ft-111620\n",
      "/learn-co-students/cli-applications-simple-blackjack-chi01-seng-ft-080320\n",
      "/learn-co-students/cli-applications-simple-blackjack-nyc04-seng-ft-053120\n",
      "/learn-co-students/cli-applications-simple-blackjack-nyc01-seng-ft-042020\n",
      "/learn-co-students/cli-applications-simple-blackjack-chi01-seng-ft-010620\n"
     ]
    },
    {
     "name": "stderr",
     "output_type": "stream",
     "text": [
      " 66%|██████▌   | 33/50 [1:33:14<46:56, 165.66s/it]  "
     ]
    },
    {
     "name": "stdout",
     "output_type": "stream",
     "text": [
      "https://github.com/search?o=desc&p=34&q=blackjack&s=forks&type=Repositories\n",
      "True 200\n",
      "/learn-co-students/cli-applications-simple-blackjack-nyc01-seng-ft-060120\n",
      "/learn-co-students/cli-applications-simple-blackjack-den01-seng-ft-051120\n",
      "/learn-co-students/cli-applications-simple-blackjack-den01-seng-ft-102620\n",
      "/learn-co-students/cli-applications-simple-blackjack-nyc04-seng-ft-021720\n",
      "/learn-co-students/cli-applications-simple-blackjack-wdc01-seng-ft-022221\n",
      "/GregSommerville/Evolutionary.Net\n",
      "/kbiters/blackjack-js\n",
      "/jyt0532/blackjack\n",
      "/pda87/Blackjack\n",
      "/erickctra/frog-jack\n"
     ]
    },
    {
     "name": "stderr",
     "output_type": "stream",
     "text": [
      " 68%|██████▊   | 34/50 [1:33:30<32:11, 120.70s/it]"
     ]
    },
    {
     "name": "stdout",
     "output_type": "stream",
     "text": [
      "https://github.com/search?o=desc&p=35&q=blackjack&s=forks&type=Repositories\n",
      "True 200\n",
      "/7799/BlackJack\n",
      "/JordanLeich/Blackjack-21\n",
      "/justinbodnar/blackjack-ai\n",
      "/Klerith/js-blackjack\n",
      "/jimdevops19/Blackjack\n",
      "/AltspaceVR/mre-blackjack\n",
      "/nehctuk/teampun-ther\n",
      "/kavisherlock/BlackJack-RL\n",
      "/rubyloco/script-wars-blackjack\n",
      "/acesarewild/CSC150-BlackJack\n"
     ]
    },
    {
     "name": "stderr",
     "output_type": "stream",
     "text": [
      " 70%|███████   | 35/50 [1:33:46<22:18, 89.23s/it] "
     ]
    },
    {
     "name": "stdout",
     "output_type": "stream",
     "text": [
      "https://github.com/search?o=desc&p=36&q=blackjack&s=forks&type=Repositories\n",
      "True 200\n",
      "/mrmikemcguire/Blackjack\n",
      "/anuccio1/Client-Server-Blackjack-Game\n",
      "/Tiankecheng/BlackJack\n",
      "/tutsplus/create-a-blackjack-game-in-swift-and-spritekit\n",
      "/yuzokamoto/revisao-blackjack\n",
      "/ColomboRiccardo/develhope-blackjack\n",
      "/OOP-Java-DTU-Step-2020/blackjack-complete\n",
      "/DeltechJavaAcademy/CLI-Blackjack\n",
      "/kiworkshop/java-blackjack\n",
      "/dpaschal-lf/blackjack_319demo\n"
     ]
    },
    {
     "name": "stderr",
     "output_type": "stream",
     "text": [
      " 72%|███████▏  | 36/50 [1:34:02<15:40, 67.17s/it]"
     ]
    },
    {
     "name": "stdout",
     "output_type": "stream",
     "text": [
      "https://github.com/search?o=desc&p=37&q=blackjack&s=forks&type=Repositories\n",
      "True 200\n",
      "/Return-Ready-Summer-2021/CLI-Blackjack-Project\n",
      "/PirogovVladimir11-8/BlackJack-1\n",
      "/osipovgleb/BlackJack-4\n",
      "/learn-co-curriculum/cli-applications-simple-blackjack\n",
      "/Computer-and-Information-Science/blackjack-hand-marshalmiller-1\n",
      "/RazzleRazzle/simple-blackjack-cli-web-042417\n",
      "/learn-co-students/simple-blackjack-cli-pca-001\n",
      "/Jisho23/simple-blackjack-cli-web-091817\n",
      "/learn-co-students/simple-blackjack-cli-dc-web-career-01719\n",
      "/dhinojosa/mycmt2-blackjack_2021-10-13\n"
     ]
    },
    {
     "name": "stderr",
     "output_type": "stream",
     "text": [
      " 74%|███████▍  | 37/50 [1:34:17<11:12, 51.72s/it]"
     ]
    },
    {
     "name": "stdout",
     "output_type": "stream",
     "text": [
      "https://github.com/search?o=desc&p=38&q=blackjack&s=forks&type=Repositories\n",
      "True 200\n",
      "/learn-co-students/cli-applications-simple-blackjack-london-web-030920\n",
      "/learn-co-students/cli-applications-simple-blackjack-atlanta-web-111819\n",
      "/learn-co-students/cli-applications-simple-blackjack-houston-web-012720\n",
      "/learn-co-students/simple-blackjack-cli-london-web-080519\n",
      "/learn-co-students/simple-blackjack-cli-dc-web-100818\n",
      "/learn-co-students/cli-applications-simple-blackjack-austin-web-030920\n",
      "/learn-co-students/cli-applications-simple-blackjack-chicago-web-021720\n",
      "/learn-co-students/simple-blackjack-cli-dumbo-web-042318\n",
      "/learn-co-students/simple-blackjack-cli-atlanta-web-career-012819\n",
      "/learn-co-students/simple-blackjack-cli-nyc-web-121018\n"
     ]
    },
    {
     "name": "stderr",
     "output_type": "stream",
     "text": [
      " 76%|███████▌  | 38/50 [1:34:34<08:12, 41.07s/it]"
     ]
    },
    {
     "name": "stdout",
     "output_type": "stream",
     "text": [
      "https://github.com/search?o=desc&p=39&q=blackjack&s=forks&type=Repositories\n",
      "True 200\n",
      "/learn-co-students/simple-blackjack-cli-nyc-web-career-012819\n",
      "/learn-co-students/simple-blackjack-cli-atlanta-web-career-012819\n",
      "/learn-co-students/cli-applications-simple-blackjack-denver-web-021720\n",
      "/learn-co-students/simple-blackjack-cli-houston-web-100818\n",
      "/learn-co-students/simple-blackjack-cli-nyc-web-080519\n",
      "/learn-co-students/simple-blackjack-cli-houston-web-career-040119\n",
      "/learn-co-students/cli-applications-simple-blackjack-dc-web-080519\n",
      "/learn-co-students/simple-blackjack-cli-seattle-web-062419\n",
      "/learn-co-students/simple-blackjack-cli-denver-web-career-042219\n",
      "/learn-co-students/cli-applications-simple-blackjack-london-web-071519\n"
     ]
    },
    {
     "name": "stderr",
     "output_type": "stream",
     "text": [
      " 78%|███████▊  | 39/50 [1:34:51<06:13, 33.99s/it]"
     ]
    },
    {
     "name": "stdout",
     "output_type": "stream",
     "text": [
      "https://github.com/search?o=desc&p=40&q=blackjack&s=forks&type=Repositories\n",
      "True 200\n",
      "/learn-co-students/cli-applications-simple-blackjack-seattle-web-030920\n",
      "/learn-co-students/simple-blackjack-cli-london-web-091718\n",
      "/learn-co-students/simple-blackjack-cli-dumbo-web-060418\n",
      "/learn-co-students/cli-applications-simple-blackjack-houston-web-080519\n",
      "/learn-co-students/cli-applications-simple-blackjack-austin-web-102819\n",
      "/learn-co-students/cli-applications-simple-blackjack-sea01-seng-ft-082420\n",
      "/learn-co-students/cli-applications-simple-blackjack-nyc01-seng-ft-011121\n",
      "/learn-co-students/cli-applications-simple-blackjack-chi01-seng-ft-062220\n",
      "/learn-co-students/cli-applications-simple-blackjack-sfo01-seng-ft-060120\n",
      "/learn-co-students/cli-applications-simple-blackjack-atx01-seng-ft-100520\n"
     ]
    },
    {
     "name": "stderr",
     "output_type": "stream",
     "text": [
      " 80%|████████  | 40/50 [1:35:09<04:51, 29.14s/it]"
     ]
    },
    {
     "name": "stdout",
     "output_type": "stream",
     "text": [
      "https://github.com/search?o=desc&p=41&q=blackjack&s=forks&type=Repositories\n",
      "True 200\n",
      "/learn-co-students/cli-applications-simple-blackjack-hou01-seng-ft-022221\n",
      "/learn-co-students/cli-applications-simple-blackjack-nyc01-seng-ft-100520\n",
      "/1andDone/blackjack\n",
      "/PrintName/BlackjackCardCounter\n",
      "/mhluska/blackjack-simulator\n",
      "/torbjornhedqvist/blackjack\n",
      "/mralexnolla/blackjack\n",
      "/DanielGTI/BlackJack-csharp\n",
      "/Perotins/Blackjack\n",
      "/lozand/BlackJack\n"
     ]
    },
    {
     "name": "stderr",
     "output_type": "stream",
     "text": [
      " 82%|████████▏ | 41/50 [1:35:25<03:47, 25.29s/it]"
     ]
    },
    {
     "name": "stdout",
     "output_type": "stream",
     "text": [
      "https://github.com/search?o=desc&p=42&q=blackjack&s=forks&type=Repositories\n",
      "True 200\n",
      "/rikusalminen/jamtoysynth\n",
      "/scottux/BlackJack\n",
      "/AimanIskndr/Blackjack\n",
      "/921kiyo/blackjack-android\n",
      "/MehdiAbbanaBennani/reinforcement-learning-on-blackjack\n",
      "/loomnetwork/unity-evm-blackjack\n",
      "/Neurobaby/MGPs-BJ-CA\n",
      "/erberg/BlackJack-Node\n",
      "/nss-cohort-2014-06-07/blackjack21\n",
      "/Dammi87/BlackjackStub\n"
     ]
    },
    {
     "name": "stderr",
     "output_type": "stream",
     "text": [
      " 84%|████████▍ | 42/50 [1:35:43<03:04, 23.05s/it]"
     ]
    },
    {
     "name": "stdout",
     "output_type": "stream",
     "text": [
      "https://github.com/search?o=desc&p=43&q=blackjack&s=forks&type=Repositories\n",
      "True 200\n",
      "/RichMans96/BlackjackJunit\n",
      "/guilhermedelemos/blackjack\n",
      "/tiy-gvl-python/blackjack\n",
      "/tiy-lv-python-2015-10/blackjack\n",
      "/oz123/blackjack\n",
      "/mfmerritts/blackjack\n",
      "/wtran29/Blackjack-Tkinter\n",
      "/Mozes721/BlackJack\n",
      "/zaycation/jewel-jack\n",
      "/nordakademie-einfuehrung-java/uebung_9\n"
     ]
    },
    {
     "name": "stderr",
     "output_type": "stream",
     "text": [
      " 86%|████████▌ | 43/50 [1:36:01<02:30, 21.44s/it]"
     ]
    },
    {
     "name": "stdout",
     "output_type": "stream",
     "text": [
      "https://github.com/search?o=desc&p=44&q=blackjack&s=forks&type=Repositories\n",
      "True 200\n",
      "/kucaahbe/cucumber-websteps\n",
      "/victorr0/BlackJack-in-Python-OOP-with-GUI\n",
      "/lets-play-code/blackjack-page\n",
      "/cs361-W16/Blackjack-12\n",
      "/cs361-W16/Blackjack-21\n",
      "/DanisHack/Blackjack-game-in-java\n",
      "/cmcaplinger/SEIR-ruby-blackjack-1\n",
      "/learn-co-students/objc-BlackJack-001\n",
      "/Brad94/QA-Blackjack-Rules\n",
      "/learn-co-students/simple-blackjack-cli-web-022018\n"
     ]
    },
    {
     "name": "stderr",
     "output_type": "stream",
     "text": [
      " 88%|████████▊ | 44/50 [1:36:19<02:02, 20.40s/it]"
     ]
    },
    {
     "name": "stdout",
     "output_type": "stream",
     "text": [
      "https://github.com/search?o=desc&p=45&q=blackjack&s=forks&type=Repositories\n",
      "True 200\n",
      "/learn-co-students/simple-blackjack-cli-web-103017\n",
      "/learn-co-students/simple-blackjack-cli-pca-000\n",
      "/learn-co-students/simple-blackjack-cli-web-112017\n",
      "/learn-co-students/cli-applications-simple-blackjack-austin-web-091619\n",
      "/learn-co-students/simple-blackjack-cli-london-web-091619\n",
      "/learn-co-students/cli-applications-simple-blackjack-sf-web-091619\n",
      "/learn-co-students/simple-blackjack-cli-seattle-web-071519\n",
      "/learn-co-students/simple-blackjack-cli-london-web-071618\n",
      "/learn-co-students/simple-blackjack-cli-atlanta-web-career-121018\n",
      "/learn-co-students/cli-applications-simple-blackjack-seattle-web-091619\n"
     ]
    },
    {
     "name": "stderr",
     "output_type": "stream",
     "text": [
      " 90%|█████████ | 45/50 [1:36:35<01:35, 19.15s/it]"
     ]
    },
    {
     "name": "stdout",
     "output_type": "stream",
     "text": [
      "https://github.com/search?o=desc&p=46&q=blackjack&s=forks&type=Repositories\n",
      "True 200\n",
      "/learn-co-students/cli-applications-simple-blackjack-chicago-web-033020\n",
      "/learn-co-students/simple-blackjack-cli-dc-web-031218\n",
      "/learn-co-students/cli-applications-simple-blackjack-atlanta-web-010620\n",
      "/learn-co-students/simple-blackjack-cli-london-web-102918\n",
      "/learn-co-students/simple-blackjack-cli-austin-web-080519\n",
      "/learn-co-students/simple-blackjack-cli-atlanta-web-82619\n",
      "/learn-co-students/simple-blackjack-cli-houston-web-051319\n",
      "/learn-co-students/cli-applications-simple-blackjack-dc-web-120919\n",
      "/learn-co-students/simple-blackjack-cli-den-web-071519\n",
      "/learn-co-students/simple-blackjack-cli-austin-web-102819\n"
     ]
    },
    {
     "name": "stderr",
     "output_type": "stream",
     "text": [
      " 92%|█████████▏| 46/50 [1:36:51<01:13, 18.27s/it]"
     ]
    },
    {
     "name": "stdout",
     "output_type": "stream",
     "text": [
      "https://github.com/search?o=desc&p=47&q=blackjack&s=forks&type=Repositories\n",
      "True 200\n",
      "/learn-co-students/cli-applications-simple-blackjack-atlanta-web-033020\n",
      "/Yakoloi/royalecasino\n",
      "/LevBernstein/BeardlessBot\n",
      "/learn-co-students/cli-applications-simple-blackjack-atx01-seng-ft-011121\n",
      "/learn-co-students/cli-applications-simple-blackjack-chi01-seng-ft-102620\n",
      "/learn-co-students/cli-applications-simple-blackjack-lon01-seng-ft-042020\n",
      "/grapeJUICE1/python-mini-projects\n",
      "/erikwestlund/blackjacker\n",
      "/samaugust/blackjack\n",
      "/tansey/blackjack\n"
     ]
    },
    {
     "name": "stderr",
     "output_type": "stream",
     "text": [
      " 94%|█████████▍| 47/50 [1:37:07<00:52, 17.52s/it]"
     ]
    },
    {
     "name": "stdout",
     "output_type": "stream",
     "text": [
      "https://github.com/search?o=desc&p=48&q=blackjack&s=forks&type=Repositories\n",
      "True 200\n",
      "/Wilfred/Blackjack\n",
      "/bcgame-project/bcgame-blackjack\n",
      "/fengvyi/Blackjack\n",
      "/Arc676/Blackjack\n",
      "/DomHeal/Blackjack\n",
      "/nleskiw/blackjack\n",
      "/seanmcclure22/blackjack-plugin\n",
      "/cinder92/react-native-blackjack\n",
      "/Himan10/BlackJack\n",
      "/molron94/Blackjack-Sim\n"
     ]
    },
    {
     "name": "stderr",
     "output_type": "stream",
     "text": [
      " 96%|█████████▌| 48/50 [1:37:23<00:34, 17.15s/it]"
     ]
    },
    {
     "name": "stdout",
     "output_type": "stream",
     "text": [
      "https://github.com/search?o=desc&p=49&q=blackjack&s=forks&type=Repositories\n",
      "True 200\n",
      "/DaoCasino/BlackjackGame\n",
      "/sgodwincs/blackjack-monte-carlo-es\n",
      "/MasterChenb0x/blackjack-trainer\n",
      "/arjunkeerthi/BlackJack\n",
      "/uzaymacar/blackjack-with-gui\n",
      "/lets-play-code/blackjack-server\n",
      "/yaseenagag/BlackJack\n",
      "/gponimansky/blackjack-casino\n",
      "/asher-scott/blackjack-design-patterns\n",
      "/claraj/blackjack2\n"
     ]
    },
    {
     "name": "stderr",
     "output_type": "stream",
     "text": [
      " 98%|█████████▊| 49/50 [1:37:39<00:16, 16.71s/it]"
     ]
    },
    {
     "name": "stdout",
     "output_type": "stream",
     "text": [
      "https://github.com/search?o=desc&p=50&q=blackjack&s=forks&type=Repositories\n",
      "True 200\n",
      "/helsaba/DogeJack\n",
      "/lkachtik/blackjack\n",
      "/cpremuda/BlackJack\n",
      "/PotapovE/BlackJack\n",
      "/perezjbryanSchoolWork/Java-Blackjack-Strategy-Simulation\n",
      "/TigerZen/Unity3D-BlackJack-Dapp\n",
      "/merdoyovski/Modified-Blackjack_Reach-Bounty-Hack\n",
      "/DEEBAZZ890/Blackjack-game\n",
      "/cs361-W16/Blackjack-14\n",
      "/cs361-W16/Blackjack-8\n"
     ]
    },
    {
     "name": "stderr",
     "output_type": "stream",
     "text": [
      "100%|██████████| 50/50 [1:37:55<00:00, 117.51s/it]\n",
      "/var/folders/6g/l26q8gx91f157w7v1zccg2wm0000gq/T/ipykernel_10345/2279071804.py:140: FutureWarning: The frame.append method is deprecated and will be removed from pandas in a future version. Use pandas.concat instead.\n",
      "  df = df.append(pd.DataFrame({'href': hrefs}))\n"
     ]
    }
   ],
   "source": [
    "df = get_repo()"
   ]
  },
  {
   "cell_type": "code",
   "execution_count": 10,
   "id": "a2bd0b5a",
   "metadata": {},
   "outputs": [
    {
     "data": {
      "text/html": [
       "<div>\n",
       "<style scoped>\n",
       "    .dataframe tbody tr th:only-of-type {\n",
       "        vertical-align: middle;\n",
       "    }\n",
       "\n",
       "    .dataframe tbody tr th {\n",
       "        vertical-align: top;\n",
       "    }\n",
       "\n",
       "    .dataframe thead th {\n",
       "        text-align: right;\n",
       "    }\n",
       "</style>\n",
       "<table border=\"1\" class=\"dataframe\">\n",
       "  <thead>\n",
       "    <tr style=\"text-align: right;\">\n",
       "      <th></th>\n",
       "      <th>href</th>\n",
       "    </tr>\n",
       "  </thead>\n",
       "  <tbody>\n",
       "    <tr>\n",
       "      <th>0</th>\n",
       "      <td>/learn-co-students/simple-blackjack-cli-prework</td>\n",
       "    </tr>\n",
       "    <tr>\n",
       "      <th>1</th>\n",
       "      <td>/rocketacademy/basics-blackjack</td>\n",
       "    </tr>\n",
       "    <tr>\n",
       "      <th>2</th>\n",
       "      <td>/datamllab/rlcard</td>\n",
       "    </tr>\n",
       "    <tr>\n",
       "      <th>3</th>\n",
       "      <td>/learn-co-students/simple-blackjack-cli-001-pr...</td>\n",
       "    </tr>\n",
       "    <tr>\n",
       "      <th>4</th>\n",
       "      <td>/cocos-creator/tutorial-blackjack-deprecated</td>\n",
       "    </tr>\n",
       "    <tr>\n",
       "      <th>...</th>\n",
       "      <td>...</td>\n",
       "    </tr>\n",
       "    <tr>\n",
       "      <th>435</th>\n",
       "      <td>/TigerZen/Unity3D-BlackJack-Dapp</td>\n",
       "    </tr>\n",
       "    <tr>\n",
       "      <th>436</th>\n",
       "      <td>/merdoyovski/Modified-Blackjack_Reach-Bounty-Hack</td>\n",
       "    </tr>\n",
       "    <tr>\n",
       "      <th>437</th>\n",
       "      <td>/DEEBAZZ890/Blackjack-game</td>\n",
       "    </tr>\n",
       "    <tr>\n",
       "      <th>438</th>\n",
       "      <td>/cs361-W16/Blackjack-14</td>\n",
       "    </tr>\n",
       "    <tr>\n",
       "      <th>439</th>\n",
       "      <td>/cs361-W16/Blackjack-8</td>\n",
       "    </tr>\n",
       "  </tbody>\n",
       "</table>\n",
       "<p>440 rows × 1 columns</p>\n",
       "</div>"
      ],
      "text/plain": [
       "                                                  href\n",
       "0      /learn-co-students/simple-blackjack-cli-prework\n",
       "1                      /rocketacademy/basics-blackjack\n",
       "2                                    /datamllab/rlcard\n",
       "3    /learn-co-students/simple-blackjack-cli-001-pr...\n",
       "4         /cocos-creator/tutorial-blackjack-deprecated\n",
       "..                                                 ...\n",
       "435                   /TigerZen/Unity3D-BlackJack-Dapp\n",
       "436  /merdoyovski/Modified-Blackjack_Reach-Bounty-Hack\n",
       "437                         /DEEBAZZ890/Blackjack-game\n",
       "438                            /cs361-W16/Blackjack-14\n",
       "439                             /cs361-W16/Blackjack-8\n",
       "\n",
       "[440 rows x 1 columns]"
      ]
     },
     "execution_count": 10,
     "metadata": {},
     "output_type": "execute_result"
    }
   ],
   "source": [
    "df"
   ]
  },
  {
   "cell_type": "code",
   "execution_count": 11,
   "id": "efe213fb-29b2-4842-ac5f-06b34e4ad73e",
   "metadata": {},
   "outputs": [
    {
     "data": {
      "text/plain": [
       "440"
      ]
     },
     "execution_count": 11,
     "metadata": {},
     "output_type": "execute_result"
    }
   ],
   "source": [
    "df.value_counts().sum()"
   ]
  },
  {
   "cell_type": "code",
   "execution_count": 12,
   "id": "b35ce4a7-602d-4307-9ea0-5c20b26563bb",
   "metadata": {},
   "outputs": [],
   "source": [
    "df.to_csv('links.csv')"
   ]
  },
  {
   "cell_type": "code",
   "execution_count": null,
   "id": "f4004e9f-2c3d-4bf6-847f-ce1bff253c9c",
   "metadata": {},
   "outputs": [],
   "source": []
  }
 ],
 "metadata": {
  "kernelspec": {
   "display_name": "Python 3 (ipykernel)",
   "language": "python",
   "name": "python3"
  },
  "language_info": {
   "codemirror_mode": {
    "name": "ipython",
    "version": 3
   },
   "file_extension": ".py",
   "mimetype": "text/x-python",
   "name": "python",
   "nbconvert_exporter": "python",
   "pygments_lexer": "ipython3",
   "version": "3.9.13"
  }
 },
 "nbformat": 4,
 "nbformat_minor": 5
}
