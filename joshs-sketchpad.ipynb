{
 "cells": [
  {
   "cell_type": "code",
   "execution_count": 1,
   "id": "2723bcf4-0473-4f6b-9121-5288f362166b",
   "metadata": {},
   "outputs": [],
   "source": [
    "import pandas as pd\n",
    "import numpy as np\n",
    "import seaborn as sns\n",
    "import matplotlib.pyplot as plt\n",
    "from acquire import *\n",
    "import env\n",
    "import json\n",
    "from requests import get\n",
    "from json.decoder import JSONDecodeError\n",
    "from bs4 import BeautifulSoup\n",
    "import time\n",
    "from tqdm import tqdm\n",
    "\n",
    "import env"
   ]
  },
  {
   "cell_type": "code",
   "execution_count": 2,
   "id": "1a79f1cd-6d50-46f8-aec4-82bfd85218db",
   "metadata": {},
   "outputs": [
    {
     "data": {
      "text/plain": [
       "'\\nREPOS = [\\n    \"gocodeup/codeup-setup-script\",\\n    \"gocodeup/movies-application\",\\n    \"torvalds/linux\",\\n]\\n'"
      ]
     },
     "execution_count": 2,
     "metadata": {},
     "output_type": "execute_result"
    }
   ],
   "source": [
    "\"\"\"\n",
    "REPOS = [\n",
    "    \"gocodeup/codeup-setup-script\",\n",
    "    \"gocodeup/movies-application\",\n",
    "    \"torvalds/linux\",\n",
    "]\n",
    "\"\"\""
   ]
  },
  {
   "cell_type": "code",
   "execution_count": 3,
   "id": "a2de022d-1c0c-405d-9962-a7df3b9cf5b8",
   "metadata": {},
   "outputs": [],
   "source": [
    "links = pd.read_csv(\"links.csv\", index_col=\"Unnamed: 0\")"
   ]
  },
  {
   "cell_type": "code",
   "execution_count": 4,
   "id": "4e857118-730e-4bff-bc34-6b812a6c4e17",
   "metadata": {},
   "outputs": [],
   "source": [
    "#When you get new links, delete this line.\n",
    "links.href = links.href.str[1:]"
   ]
  },
  {
   "cell_type": "code",
   "execution_count": 5,
   "id": "e1d630ce-eb03-47c0-99b5-23ed465d040b",
   "metadata": {},
   "outputs": [
    {
     "data": {
      "text/html": [
       "<div>\n",
       "<style scoped>\n",
       "    .dataframe tbody tr th:only-of-type {\n",
       "        vertical-align: middle;\n",
       "    }\n",
       "\n",
       "    .dataframe tbody tr th {\n",
       "        vertical-align: top;\n",
       "    }\n",
       "\n",
       "    .dataframe thead th {\n",
       "        text-align: right;\n",
       "    }\n",
       "</style>\n",
       "<table border=\"1\" class=\"dataframe\">\n",
       "  <thead>\n",
       "    <tr style=\"text-align: right;\">\n",
       "      <th></th>\n",
       "      <th>href</th>\n",
       "    </tr>\n",
       "  </thead>\n",
       "  <tbody>\n",
       "    <tr>\n",
       "      <th>0</th>\n",
       "      <td>learn-co-students/simple-blackjack-cli-prework</td>\n",
       "    </tr>\n",
       "    <tr>\n",
       "      <th>1</th>\n",
       "      <td>rocketacademy/basics-blackjack</td>\n",
       "    </tr>\n",
       "    <tr>\n",
       "      <th>2</th>\n",
       "      <td>datamllab/rlcard</td>\n",
       "    </tr>\n",
       "    <tr>\n",
       "      <th>3</th>\n",
       "      <td>learn-co-students/simple-blackjack-cli-001-pre...</td>\n",
       "    </tr>\n",
       "    <tr>\n",
       "      <th>4</th>\n",
       "      <td>cocos-creator/tutorial-blackjack-deprecated</td>\n",
       "    </tr>\n",
       "  </tbody>\n",
       "</table>\n",
       "</div>"
      ],
      "text/plain": [
       "                                                href\n",
       "0     learn-co-students/simple-blackjack-cli-prework\n",
       "1                     rocketacademy/basics-blackjack\n",
       "2                                   datamllab/rlcard\n",
       "3  learn-co-students/simple-blackjack-cli-001-pre...\n",
       "4        cocos-creator/tutorial-blackjack-deprecated"
      ]
     },
     "execution_count": 5,
     "metadata": {},
     "output_type": "execute_result"
    }
   ],
   "source": [
    "links.head()"
   ]
  },
  {
   "cell_type": "code",
   "execution_count": 6,
   "id": "0f6d5cf0-fa4d-4360-a8ab-76a1149bc864",
   "metadata": {},
   "outputs": [],
   "source": [
    "#Run this to get new data\n",
    "#df = get_repo_contents(links.href)"
   ]
  },
  {
   "cell_type": "code",
   "execution_count": 7,
   "id": "295bdc3f-6258-482e-9424-3c4a58bdb017",
   "metadata": {},
   "outputs": [],
   "source": [
    "#Run to save the data\n",
    "#df = pd.to_csv(\"origional_data.csv\", index=False)"
   ]
  },
  {
   "cell_type": "code",
   "execution_count": 8,
   "id": "4a46cf63-6e09-4ab3-b6ca-a1721f7810b6",
   "metadata": {},
   "outputs": [],
   "source": [
    "df = pd.read_csv(\"original_data.csv\")"
   ]
  },
  {
   "cell_type": "code",
   "execution_count": 9,
   "id": "98ad916e-2e36-4556-ac0e-61a6b41cdb85",
   "metadata": {},
   "outputs": [
    {
     "data": {
      "text/plain": [
       "Ruby                216\n",
       "Java                 52\n",
       "JavaScript           40\n",
       "Python               36\n",
       "C#                   15\n",
       "C++                   9\n",
       "Swift                 7\n",
       "HTML                  5\n",
       "CSS                   5\n",
       "TypeScript            4\n",
       "Lua                   3\n",
       "Objective-C           3\n",
       "Jupyter Notebook      3\n",
       "Vue                   2\n",
       "Rust                  2\n",
       "Kotlin                2\n",
       "PHP                   2\n",
       "Go                    2\n",
       "Dart                  2\n",
       "C                     1\n",
       "Haskell               1\n",
       "Visual Basic          1\n",
       "Elixir                1\n",
       "Roff                  1\n",
       "Clojure               1\n",
       "Solidity              1\n",
       "Shell                 1\n",
       "Name: language, dtype: int64"
      ]
     },
     "execution_count": 9,
     "metadata": {},
     "output_type": "execute_result"
    }
   ],
   "source": [
    "df.language.value_counts()"
   ]
  },
  {
   "cell_type": "code",
   "execution_count": null,
   "id": "3ae042b8-624c-4a9d-9bec-cace089b7639",
   "metadata": {},
   "outputs": [],
   "source": []
  }
 ],
 "metadata": {
  "kernelspec": {
   "display_name": "Python 3 (ipykernel)",
   "language": "python",
   "name": "python3"
  },
  "language_info": {
   "codemirror_mode": {
    "name": "ipython",
    "version": 3
   },
   "file_extension": ".py",
   "mimetype": "text/x-python",
   "name": "python",
   "nbconvert_exporter": "python",
   "pygments_lexer": "ipython3",
   "version": "3.9.15"
  }
 },
 "nbformat": 4,
 "nbformat_minor": 5
}
